{
 "cells": [
  {
   "cell_type": "code",
   "execution_count": 1,
   "id": "91b7cc73",
   "metadata": {},
   "outputs": [],
   "source": [
    "import json\n",
    "import pandas as pd\n",
    "from keplergl import KeplerGl"
   ]
  },
  {
   "cell_type": "code",
   "execution_count": 2,
   "id": "0cc19f97",
   "metadata": {},
   "outputs": [],
   "source": [
    "geojson_file = 'Russia_regions.geojson'"
   ]
  },
  {
   "cell_type": "code",
   "execution_count": 3,
   "id": "40197bbe",
   "metadata": {},
   "outputs": [],
   "source": [
    "with open(geojson_file) as data_file:\n",
    "    data = json.load(data_file)\n",
    "geodata = json.loads(json.dumps(data))"
   ]
  },
  {
   "cell_type": "code",
   "execution_count": 4,
   "id": "3573f2a1",
   "metadata": {},
   "outputs": [],
   "source": [
    "chuk = next(item for item in geodata['features'] if item[\"properties\"][\"region\"] == \"Чукотский АО\")\n",
    "for i in chuk['geometry']['coordinates']:\n",
    "    for j in i[0]:\n",
    "        if j[0] < 0:\n",
    "            j[0] = 360 + j[0]\n",
    "index = next(i for i in range(len(geodata['features'])) if geodata['features'][i][\"properties\"][\"region\"] == \"Чукотский АО\")\n",
    "geodata['features'][index] = chuk"
   ]
  },
  {
   "cell_type": "code",
   "execution_count": 5,
   "id": "38755b2d",
   "metadata": {
    "scrolled": true
   },
   "outputs": [
    {
     "name": "stdout",
     "output_type": "stream",
     "text": [
      "User Guide: https://docs.kepler.gl/docs/keplergl-jupyter\n"
     ]
    }
   ],
   "source": [
    "map_1 = KeplerGl(height=500)"
   ]
  },
  {
   "cell_type": "code",
   "execution_count": 6,
   "id": "3df465b7",
   "metadata": {},
   "outputs": [],
   "source": [
    "regions_df = pd.read_csv(\"regions.csv\", sep=\";\")\n",
    "regions_df = regions_df.drop([\"Unnamed: 3\"], axis=1)\n",
    "regions = {}\n",
    "for idx, region in regions_df.iterrows():\n",
    "    regions[region['region']] = region['code']\n",
    "    regions[region['code']] = region['region']\n",
    "regions_df.set_index('code', inplace=True)"
   ]
  },
  {
   "cell_type": "code",
   "execution_count": 7,
   "id": "9b3a5e71",
   "metadata": {},
   "outputs": [],
   "source": [
    "cprm_df = pd.read_csv(\"counts_by_regions_and_years.csv\", sep=\";\")\n",
    "cprm_df.set_index('regions', inplace=True)"
   ]
  },
  {
   "cell_type": "code",
   "execution_count": 8,
   "id": "495dcce9",
   "metadata": {},
   "outputs": [],
   "source": [
    "for feature in geodata['features']:\n",
    "    try:\n",
    "        cases_by_year_in_region = cprm_df[regions[feature[\"properties\"][\"region\"]]]\n",
    "        ppl_count_mln = float(regions_df['mln']['RU-ALT'].replace(',', '.'))\n",
    "        feature[\"properties\"][\"2020\"] = str(cases_by_year_in_region[\"2020\"]/ppl_count_mln)\n",
    "        feature[\"properties\"][\"2021\"] = str(cases_by_year_in_region[\"2021\"]/ppl_count_mln)\n",
    "        feature[\"properties\"][\"2022\"] = str(cases_by_year_in_region[\"2022\"]/ppl_count_mln)\n",
    "        feature[\"properties\"][\"2023\"] = str(cases_by_year_in_region[\"2023\"]/ppl_count_mln)\n",
    "        feature[\"properties\"][\"total\"] = str(cases_by_year_in_region[\"total\"]/ppl_count_mln)\n",
    "    except Exception:\n",
    "        feature[\"properties\"][\"2020\"] = \"0\"\n",
    "        feature[\"properties\"][\"2021\"] = \"0\"\n",
    "        feature[\"properties\"][\"2022\"] = \"0\"\n",
    "        feature[\"properties\"][\"2023\"] = \"0\"\n",
    "        feature[\"properties\"][\"total\"] = \"0\""
   ]
  },
  {
   "cell_type": "code",
   "execution_count": null,
   "id": "767b75eb",
   "metadata": {},
   "outputs": [
    {
     "name": "stdout",
     "output_type": "stream",
     "text": [
      "Map saved to map.html!\n"
     ]
    }
   ],
   "source": [
    "map_1.add_data(data=geodata, name=\"geojson\")\n",
    "map_1.save_to_html(file_name=\"map.html\")"
   ]
  }
 ],
 "metadata": {
  "kernelspec": {
   "display_name": "Python 3 (ipykernel)",
   "language": "python",
   "name": "python3"
  },
  "language_info": {
   "codemirror_mode": {
    "name": "ipython",
    "version": 3
   },
   "file_extension": ".py",
   "mimetype": "text/x-python",
   "name": "python",
   "nbconvert_exporter": "python",
   "pygments_lexer": "ipython3",
   "version": "3.10.6"
  }
 },
 "nbformat": 4,
 "nbformat_minor": 5
}
